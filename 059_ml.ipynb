{
 "cells": [
  {
   "cell_type": "code",
   "execution_count": 2,
   "id": "4e9458ef",
   "metadata": {},
   "outputs": [],
   "source": [
    "import numpy as np\n",
    "import pandas as pd\n",
    "import matplotlib.pyplot as plt\n",
    "import seaborn as sns"
   ]
  },
  {
   "cell_type": "code",
   "execution_count": 3,
   "id": "94e547c9",
   "metadata": {},
   "outputs": [],
   "source": [
    "import warnings\n",
    "warnings.filterwarnings(\"ignore\")"
   ]
  },
  {
   "cell_type": "code",
   "execution_count": 4,
   "id": "559f8255",
   "metadata": {},
   "outputs": [
    {
     "data": {
      "text/html": [
       "<div>\n",
       "<style scoped>\n",
       "    .dataframe tbody tr th:only-of-type {\n",
       "        vertical-align: middle;\n",
       "    }\n",
       "\n",
       "    .dataframe tbody tr th {\n",
       "        vertical-align: top;\n",
       "    }\n",
       "\n",
       "    .dataframe thead th {\n",
       "        text-align: right;\n",
       "    }\n",
       "</style>\n",
       "<table border=\"1\" class=\"dataframe\">\n",
       "  <thead>\n",
       "    <tr style=\"text-align: right;\">\n",
       "      <th></th>\n",
       "      <th>ph</th>\n",
       "      <th>Hardness</th>\n",
       "      <th>Solids</th>\n",
       "      <th>Chloramines</th>\n",
       "      <th>Sulfate</th>\n",
       "      <th>Conductivity</th>\n",
       "      <th>Organic_carbon</th>\n",
       "      <th>Trihalomethanes</th>\n",
       "      <th>Turbidity</th>\n",
       "      <th>Potability</th>\n",
       "    </tr>\n",
       "  </thead>\n",
       "  <tbody>\n",
       "    <tr>\n",
       "      <th>0</th>\n",
       "      <td>NaN</td>\n",
       "      <td>204.890455</td>\n",
       "      <td>20791.318981</td>\n",
       "      <td>7.300212</td>\n",
       "      <td>368.516441</td>\n",
       "      <td>564.308654</td>\n",
       "      <td>10.379783</td>\n",
       "      <td>86.990970</td>\n",
       "      <td>2.963135</td>\n",
       "      <td>0</td>\n",
       "    </tr>\n",
       "    <tr>\n",
       "      <th>1</th>\n",
       "      <td>3.716080</td>\n",
       "      <td>129.422921</td>\n",
       "      <td>18630.057858</td>\n",
       "      <td>6.635246</td>\n",
       "      <td>NaN</td>\n",
       "      <td>592.885359</td>\n",
       "      <td>15.180013</td>\n",
       "      <td>56.329076</td>\n",
       "      <td>4.500656</td>\n",
       "      <td>0</td>\n",
       "    </tr>\n",
       "    <tr>\n",
       "      <th>2</th>\n",
       "      <td>8.099124</td>\n",
       "      <td>224.236259</td>\n",
       "      <td>19909.541732</td>\n",
       "      <td>9.275884</td>\n",
       "      <td>NaN</td>\n",
       "      <td>418.606213</td>\n",
       "      <td>16.868637</td>\n",
       "      <td>66.420093</td>\n",
       "      <td>3.055934</td>\n",
       "      <td>0</td>\n",
       "    </tr>\n",
       "    <tr>\n",
       "      <th>3</th>\n",
       "      <td>8.316766</td>\n",
       "      <td>214.373394</td>\n",
       "      <td>22018.417441</td>\n",
       "      <td>8.059332</td>\n",
       "      <td>356.886136</td>\n",
       "      <td>363.266516</td>\n",
       "      <td>18.436524</td>\n",
       "      <td>100.341674</td>\n",
       "      <td>4.628771</td>\n",
       "      <td>0</td>\n",
       "    </tr>\n",
       "    <tr>\n",
       "      <th>4</th>\n",
       "      <td>9.092223</td>\n",
       "      <td>181.101509</td>\n",
       "      <td>17978.986339</td>\n",
       "      <td>6.546600</td>\n",
       "      <td>310.135738</td>\n",
       "      <td>398.410813</td>\n",
       "      <td>11.558279</td>\n",
       "      <td>31.997993</td>\n",
       "      <td>4.075075</td>\n",
       "      <td>0</td>\n",
       "    </tr>\n",
       "    <tr>\n",
       "      <th>...</th>\n",
       "      <td>...</td>\n",
       "      <td>...</td>\n",
       "      <td>...</td>\n",
       "      <td>...</td>\n",
       "      <td>...</td>\n",
       "      <td>...</td>\n",
       "      <td>...</td>\n",
       "      <td>...</td>\n",
       "      <td>...</td>\n",
       "      <td>...</td>\n",
       "    </tr>\n",
       "    <tr>\n",
       "      <th>3271</th>\n",
       "      <td>4.668102</td>\n",
       "      <td>193.681735</td>\n",
       "      <td>47580.991603</td>\n",
       "      <td>7.166639</td>\n",
       "      <td>359.948574</td>\n",
       "      <td>526.424171</td>\n",
       "      <td>13.894419</td>\n",
       "      <td>66.687695</td>\n",
       "      <td>4.435821</td>\n",
       "      <td>1</td>\n",
       "    </tr>\n",
       "    <tr>\n",
       "      <th>3272</th>\n",
       "      <td>7.808856</td>\n",
       "      <td>193.553212</td>\n",
       "      <td>17329.802160</td>\n",
       "      <td>8.061362</td>\n",
       "      <td>NaN</td>\n",
       "      <td>392.449580</td>\n",
       "      <td>19.903225</td>\n",
       "      <td>NaN</td>\n",
       "      <td>2.798243</td>\n",
       "      <td>1</td>\n",
       "    </tr>\n",
       "    <tr>\n",
       "      <th>3273</th>\n",
       "      <td>9.419510</td>\n",
       "      <td>175.762646</td>\n",
       "      <td>33155.578218</td>\n",
       "      <td>7.350233</td>\n",
       "      <td>NaN</td>\n",
       "      <td>432.044783</td>\n",
       "      <td>11.039070</td>\n",
       "      <td>69.845400</td>\n",
       "      <td>3.298875</td>\n",
       "      <td>1</td>\n",
       "    </tr>\n",
       "    <tr>\n",
       "      <th>3274</th>\n",
       "      <td>5.126763</td>\n",
       "      <td>230.603758</td>\n",
       "      <td>11983.869376</td>\n",
       "      <td>6.303357</td>\n",
       "      <td>NaN</td>\n",
       "      <td>402.883113</td>\n",
       "      <td>11.168946</td>\n",
       "      <td>77.488213</td>\n",
       "      <td>4.708658</td>\n",
       "      <td>1</td>\n",
       "    </tr>\n",
       "    <tr>\n",
       "      <th>3275</th>\n",
       "      <td>7.874671</td>\n",
       "      <td>195.102299</td>\n",
       "      <td>17404.177061</td>\n",
       "      <td>7.509306</td>\n",
       "      <td>NaN</td>\n",
       "      <td>327.459760</td>\n",
       "      <td>16.140368</td>\n",
       "      <td>78.698446</td>\n",
       "      <td>2.309149</td>\n",
       "      <td>1</td>\n",
       "    </tr>\n",
       "  </tbody>\n",
       "</table>\n",
       "<p>3276 rows × 10 columns</p>\n",
       "</div>"
      ],
      "text/plain": [
       "            ph    Hardness        Solids  Chloramines     Sulfate  \\\n",
       "0          NaN  204.890455  20791.318981     7.300212  368.516441   \n",
       "1     3.716080  129.422921  18630.057858     6.635246         NaN   \n",
       "2     8.099124  224.236259  19909.541732     9.275884         NaN   \n",
       "3     8.316766  214.373394  22018.417441     8.059332  356.886136   \n",
       "4     9.092223  181.101509  17978.986339     6.546600  310.135738   \n",
       "...        ...         ...           ...          ...         ...   \n",
       "3271  4.668102  193.681735  47580.991603     7.166639  359.948574   \n",
       "3272  7.808856  193.553212  17329.802160     8.061362         NaN   \n",
       "3273  9.419510  175.762646  33155.578218     7.350233         NaN   \n",
       "3274  5.126763  230.603758  11983.869376     6.303357         NaN   \n",
       "3275  7.874671  195.102299  17404.177061     7.509306         NaN   \n",
       "\n",
       "      Conductivity  Organic_carbon  Trihalomethanes  Turbidity  Potability  \n",
       "0       564.308654       10.379783        86.990970   2.963135           0  \n",
       "1       592.885359       15.180013        56.329076   4.500656           0  \n",
       "2       418.606213       16.868637        66.420093   3.055934           0  \n",
       "3       363.266516       18.436524       100.341674   4.628771           0  \n",
       "4       398.410813       11.558279        31.997993   4.075075           0  \n",
       "...            ...             ...              ...        ...         ...  \n",
       "3271    526.424171       13.894419        66.687695   4.435821           1  \n",
       "3272    392.449580       19.903225              NaN   2.798243           1  \n",
       "3273    432.044783       11.039070        69.845400   3.298875           1  \n",
       "3274    402.883113       11.168946        77.488213   4.708658           1  \n",
       "3275    327.459760       16.140368        78.698446   2.309149           1  \n",
       "\n",
       "[3276 rows x 10 columns]"
      ]
     },
     "execution_count": 4,
     "metadata": {},
     "output_type": "execute_result"
    }
   ],
   "source": [
    "df=pd.read_csv(\"water_potability.csv\")\n",
    "df"
   ]
  },
  {
   "cell_type": "code",
   "execution_count": 5,
   "id": "00ba2ddd",
   "metadata": {},
   "outputs": [
    {
     "data": {
      "text/plain": [
       "(3276, 10)"
      ]
     },
     "execution_count": 5,
     "metadata": {},
     "output_type": "execute_result"
    }
   ],
   "source": [
    "df.shape"
   ]
  },
  {
   "cell_type": "code",
   "execution_count": 6,
   "id": "14601441",
   "metadata": {},
   "outputs": [
    {
     "name": "stdout",
     "output_type": "stream",
     "text": [
      "<class 'pandas.core.frame.DataFrame'>\n",
      "RangeIndex: 3276 entries, 0 to 3275\n",
      "Data columns (total 10 columns):\n",
      " #   Column           Non-Null Count  Dtype  \n",
      "---  ------           --------------  -----  \n",
      " 0   ph               2785 non-null   float64\n",
      " 1   Hardness         3276 non-null   float64\n",
      " 2   Solids           3276 non-null   float64\n",
      " 3   Chloramines      3276 non-null   float64\n",
      " 4   Sulfate          2495 non-null   float64\n",
      " 5   Conductivity     3276 non-null   float64\n",
      " 6   Organic_carbon   3276 non-null   float64\n",
      " 7   Trihalomethanes  3114 non-null   float64\n",
      " 8   Turbidity        3276 non-null   float64\n",
      " 9   Potability       3276 non-null   int64  \n",
      "dtypes: float64(9), int64(1)\n",
      "memory usage: 256.1 KB\n"
     ]
    }
   ],
   "source": [
    "df.info()"
   ]
  },
  {
   "cell_type": "code",
   "execution_count": 7,
   "id": "a555db56",
   "metadata": {},
   "outputs": [
    {
     "data": {
      "text/plain": [
       "ph                 491\n",
       "Hardness             0\n",
       "Solids               0\n",
       "Chloramines          0\n",
       "Sulfate            781\n",
       "Conductivity         0\n",
       "Organic_carbon       0\n",
       "Trihalomethanes    162\n",
       "Turbidity            0\n",
       "Potability           0\n",
       "dtype: int64"
      ]
     },
     "execution_count": 7,
     "metadata": {},
     "output_type": "execute_result"
    }
   ],
   "source": [
    "df.isnull().sum()"
   ]
  },
  {
   "cell_type": "code",
   "execution_count": 8,
   "id": "e9c4f6ef",
   "metadata": {},
   "outputs": [],
   "source": [
    "df.fillna(df.mean(),inplace=True)"
   ]
  },
  {
   "cell_type": "code",
   "execution_count": 9,
   "id": "037a2e19",
   "metadata": {},
   "outputs": [
    {
     "data": {
      "text/plain": [
       "ph                 0\n",
       "Hardness           0\n",
       "Solids             0\n",
       "Chloramines        0\n",
       "Sulfate            0\n",
       "Conductivity       0\n",
       "Organic_carbon     0\n",
       "Trihalomethanes    0\n",
       "Turbidity          0\n",
       "Potability         0\n",
       "dtype: int64"
      ]
     },
     "execution_count": 9,
     "metadata": {},
     "output_type": "execute_result"
    }
   ],
   "source": [
    "df.isnull().sum()"
   ]
  },
  {
   "cell_type": "code",
   "execution_count": 10,
   "id": "05b45759",
   "metadata": {},
   "outputs": [
    {
     "data": {
      "text/plain": [
       "0    1998\n",
       "1    1278\n",
       "Name: Potability, dtype: int64"
      ]
     },
     "execution_count": 10,
     "metadata": {},
     "output_type": "execute_result"
    }
   ],
   "source": [
    "df.Potability.value_counts()"
   ]
  },
  {
   "cell_type": "code",
   "execution_count": 11,
   "id": "4c9c249c",
   "metadata": {},
   "outputs": [
    {
     "data": {
      "image/png": "[encoded data removed]",
      "text/plain": [
       "<Figure size 936x576 with 2 Axes>"
      ]
     },
     "metadata": {
      "needs_background": "light"
     },
     "output_type": "display_data"
    }
   ],
   "source": [
    "plt.figure(figsize=(13,8))\n",
    "sns.heatmap(df.corr(),annot=True,cmap=\"terrain\")\n",
    "plt.show()"
   ]
  },
  {
   "cell_type": "code",
   "execution_count": 12,
   "id": "05cd5b7c",
   "metadata": {},
   "outputs": [
    {
     "data": {
      "image/png": "[encoded data removed]",
      "text/plain": [
       "<Figure size 432x288 with 1 Axes>"
      ]
     },
     "metadata": {
      "needs_background": "light"
     },
     "output_type": "display_data"
    }
   ],
   "source": [
    "plt.scatter(df['Hardness'],df['Solids'])\n",
    "plt.show()"
   ]
  },
  {
   "cell_type": "code",
   "execution_count": 13,
   "id": "97c3da82",
   "metadata": {},
   "outputs": [
    {
     "name": "stdout",
     "output_type": "stream",
     "text": [
      "There are 0 categorical variables\n",
      "\n",
      "The categorical variables are :\n",
      "\n",
      " []\n"
     ]
    }
   ],
   "source": [
    "categorical = [var for var in df.columns if df[var].dtype=='O']\n",
    "print('There are {} categorical variables\\n'.format(len(categorical)))\n",
    "print('The categorical variables are :\\n\\n', categorical)"
   ]
  },
  {
   "cell_type": "code",
   "execution_count": 14,
   "id": "7cafacb2",
   "metadata": {},
   "outputs": [
    {
     "data": {
      "text/plain": [
       "Series([], dtype: float64)"
      ]
     },
     "execution_count": 14,
     "metadata": {},
     "output_type": "execute_result"
    }
   ],
   "source": [
    "df[categorical].isnull().sum()"
   ]
  },
  {
   "cell_type": "code",
   "execution_count": 39,
   "id": "cc677d9f",
   "metadata": {},
   "outputs": [],
   "source": [
    "x=df.drop('Potability',axis=1)\n",
    "y=df['Potability']"
   ]
  },
  {
   "cell_type": "code",
   "execution_count": 40,
   "id": "31e0358d",
   "metadata": {},
   "outputs": [
    {
     "data": {
      "text/plain": [
       "0       0\n",
       "1       0\n",
       "2       0\n",
       "3       0\n",
       "4       0\n",
       "       ..\n",
       "3271    1\n",
       "3272    1\n",
       "3273    1\n",
       "3274    1\n",
       "3275    1\n",
       "Name: Potability, Length: 3276, dtype: int64"
      ]
     },
     "execution_count": 40,
     "metadata": {},
     "output_type": "execute_result"
    }
   ],
   "source": [
    "y"
   ]
  },
  {
   "cell_type": "code",
   "execution_count": 41,
   "id": "49b51cd5",
   "metadata": {},
   "outputs": [],
   "source": [
    "from sklearn.model_selection import train_test_split\n",
    "x_train,x_test,y_train,y_test=train_test_split(x,y,random_state=0)"
   ]
  },
  {
   "cell_type": "code",
   "execution_count": 42,
   "id": "fdf5c67a",
   "metadata": {},
   "outputs": [
    {
     "data": {
      "text/html": [
       "<div>\n",
       "<style scoped>\n",
       "    .dataframe tbody tr th:only-of-type {\n",
       "        vertical-align: middle;\n",
       "    }\n",
       "\n",
       "    .dataframe tbody tr th {\n",
       "        vertical-align: top;\n",
       "    }\n",
       "\n",
       "    .dataframe thead th {\n",
       "        text-align: right;\n",
       "    }\n",
       "</style>\n",
       "<table border=\"1\" class=\"dataframe\">\n",
       "  <thead>\n",
       "    <tr style=\"text-align: right;\">\n",
       "      <th></th>\n",
       "      <th>ph</th>\n",
       "      <th>Hardness</th>\n",
       "      <th>Solids</th>\n",
       "      <th>Chloramines</th>\n",
       "      <th>Sulfate</th>\n",
       "      <th>Conductivity</th>\n",
       "      <th>Organic_carbon</th>\n",
       "      <th>Trihalomethanes</th>\n",
       "      <th>Turbidity</th>\n",
       "    </tr>\n",
       "  </thead>\n",
       "  <tbody>\n",
       "    <tr>\n",
       "      <th>909</th>\n",
       "      <td>7.016836</td>\n",
       "      <td>167.362187</td>\n",
       "      <td>18014.995703</td>\n",
       "      <td>5.903058</td>\n",
       "      <td>362.523416</td>\n",
       "      <td>471.484395</td>\n",
       "      <td>10.692588</td>\n",
       "      <td>45.002014</td>\n",
       "      <td>4.101398</td>\n",
       "    </tr>\n",
       "    <tr>\n",
       "      <th>900</th>\n",
       "      <td>7.080795</td>\n",
       "      <td>191.348259</td>\n",
       "      <td>14017.372066</td>\n",
       "      <td>6.490700</td>\n",
       "      <td>345.560481</td>\n",
       "      <td>423.978389</td>\n",
       "      <td>11.863248</td>\n",
       "      <td>65.791687</td>\n",
       "      <td>4.167336</td>\n",
       "    </tr>\n",
       "    <tr>\n",
       "      <th>895</th>\n",
       "      <td>4.487517</td>\n",
       "      <td>199.051403</td>\n",
       "      <td>36860.468899</td>\n",
       "      <td>9.751561</td>\n",
       "      <td>338.049428</td>\n",
       "      <td>390.566945</td>\n",
       "      <td>8.123470</td>\n",
       "      <td>75.668785</td>\n",
       "      <td>2.765722</td>\n",
       "    </tr>\n",
       "    <tr>\n",
       "      <th>743</th>\n",
       "      <td>8.137713</td>\n",
       "      <td>178.716633</td>\n",
       "      <td>33786.716309</td>\n",
       "      <td>9.101885</td>\n",
       "      <td>333.775777</td>\n",
       "      <td>481.073539</td>\n",
       "      <td>12.273181</td>\n",
       "      <td>95.905288</td>\n",
       "      <td>2.743867</td>\n",
       "    </tr>\n",
       "    <tr>\n",
       "      <th>476</th>\n",
       "      <td>8.237143</td>\n",
       "      <td>190.059695</td>\n",
       "      <td>20015.398106</td>\n",
       "      <td>8.385217</td>\n",
       "      <td>356.091761</td>\n",
       "      <td>377.682097</td>\n",
       "      <td>17.740944</td>\n",
       "      <td>37.713878</td>\n",
       "      <td>4.939109</td>\n",
       "    </tr>\n",
       "    <tr>\n",
       "      <th>...</th>\n",
       "      <td>...</td>\n",
       "      <td>...</td>\n",
       "      <td>...</td>\n",
       "      <td>...</td>\n",
       "      <td>...</td>\n",
       "      <td>...</td>\n",
       "      <td>...</td>\n",
       "      <td>...</td>\n",
       "      <td>...</td>\n",
       "    </tr>\n",
       "    <tr>\n",
       "      <th>835</th>\n",
       "      <td>7.440825</td>\n",
       "      <td>183.362713</td>\n",
       "      <td>17259.852302</td>\n",
       "      <td>4.610245</td>\n",
       "      <td>335.626443</td>\n",
       "      <td>452.995293</td>\n",
       "      <td>9.700906</td>\n",
       "      <td>80.537065</td>\n",
       "      <td>2.496343</td>\n",
       "    </tr>\n",
       "    <tr>\n",
       "      <th>3264</th>\n",
       "      <td>5.893103</td>\n",
       "      <td>239.269481</td>\n",
       "      <td>20526.666156</td>\n",
       "      <td>6.349561</td>\n",
       "      <td>341.256362</td>\n",
       "      <td>403.617560</td>\n",
       "      <td>18.963707</td>\n",
       "      <td>63.846319</td>\n",
       "      <td>4.390702</td>\n",
       "    </tr>\n",
       "    <tr>\n",
       "      <th>1653</th>\n",
       "      <td>6.648005</td>\n",
       "      <td>191.841801</td>\n",
       "      <td>15176.290678</td>\n",
       "      <td>5.661663</td>\n",
       "      <td>333.775777</td>\n",
       "      <td>471.047129</td>\n",
       "      <td>15.438287</td>\n",
       "      <td>56.532387</td>\n",
       "      <td>3.829784</td>\n",
       "    </tr>\n",
       "    <tr>\n",
       "      <th>2607</th>\n",
       "      <td>7.675914</td>\n",
       "      <td>233.300759</td>\n",
       "      <td>23673.100606</td>\n",
       "      <td>8.407497</td>\n",
       "      <td>333.775777</td>\n",
       "      <td>232.613624</td>\n",
       "      <td>18.459408</td>\n",
       "      <td>60.993590</td>\n",
       "      <td>5.040461</td>\n",
       "    </tr>\n",
       "    <tr>\n",
       "      <th>2732</th>\n",
       "      <td>7.080795</td>\n",
       "      <td>160.915815</td>\n",
       "      <td>13943.244974</td>\n",
       "      <td>8.399730</td>\n",
       "      <td>380.768478</td>\n",
       "      <td>344.154228</td>\n",
       "      <td>15.208691</td>\n",
       "      <td>75.575056</td>\n",
       "      <td>4.141552</td>\n",
       "    </tr>\n",
       "  </tbody>\n",
       "</table>\n",
       "<p>2457 rows × 9 columns</p>\n",
       "</div>"
      ],
      "text/plain": [
       "            ph    Hardness        Solids  Chloramines     Sulfate  \\\n",
       "909   7.016836  167.362187  18014.995703     5.903058  362.523416   \n",
       "900   7.080795  191.348259  14017.372066     6.490700  345.560481   \n",
       "895   4.487517  199.051403  36860.468899     9.751561  338.049428   \n",
       "743   8.137713  178.716633  33786.716309     9.101885  333.775777   \n",
       "476   8.237143  190.059695  20015.398106     8.385217  356.091761   \n",
       "...        ...         ...           ...          ...         ...   \n",
       "835   7.440825  183.362713  17259.852302     4.610245  335.626443   \n",
       "3264  5.893103  239.269481  20526.666156     6.349561  341.256362   \n",
       "1653  6.648005  191.841801  15176.290678     5.661663  333.775777   \n",
       "2607  7.675914  233.300759  23673.100606     8.407497  333.775777   \n",
       "2732  7.080795  160.915815  13943.244974     8.399730  380.768478   \n",
       "\n",
       "      Conductivity  Organic_carbon  Trihalomethanes  Turbidity  \n",
       "909     471.484395       10.692588        45.002014   4.101398  \n",
       "900     423.978389       11.863248        65.791687   4.167336  \n",
       "895     390.566945        8.123470        75.668785   2.765722  \n",
       "743     481.073539       12.273181        95.905288   2.743867  \n",
       "476     377.682097       17.740944        37.713878   4.939109  \n",
       "...            ...             ...              ...        ...  \n",
       "835     452.995293        9.700906        80.537065   2.496343  \n",
       "3264    403.617560       18.963707        63.846319   4.390702  \n",
       "1653    471.047129       15.438287        56.532387   3.829784  \n",
       "2607    232.613624       18.459408        60.993590   5.040461  \n",
       "2732    344.154228       15.208691        75.575056   4.141552  \n",
       "\n",
       "[2457 rows x 9 columns]"
      ]
     },
     "execution_count": 42,
     "metadata": {},
     "output_type": "execute_result"
    }
   ],
   "source": [
    "x_train"
   ]
  },
  {
   "cell_type": "code",
   "execution_count": 43,
   "id": "02166820",
   "metadata": {},
   "outputs": [
    {
     "data": {
      "text/plain": [
       "909     0\n",
       "900     0\n",
       "895     0\n",
       "743     1\n",
       "476     0\n",
       "       ..\n",
       "835     0\n",
       "3264    1\n",
       "1653    0\n",
       "2607    0\n",
       "2732    1\n",
       "Name: Potability, Length: 2457, dtype: int64"
      ]
     },
     "execution_count": 43,
     "metadata": {},
     "output_type": "execute_result"
    }
   ],
   "source": [
    "y_train"
   ]
  },
  {
   "cell_type": "code",
   "execution_count": 44,
   "id": "b1f4e9ac",
   "metadata": {},
   "outputs": [
    {
     "data": {
      "text/html": [
       "<div>\n",
       "<style scoped>\n",
       "    .dataframe tbody tr th:only-of-type {\n",
       "        vertical-align: middle;\n",
       "    }\n",
       "\n",
       "    .dataframe tbody tr th {\n",
       "        vertical-align: top;\n",
       "    }\n",
       "\n",
       "    .dataframe thead th {\n",
       "        text-align: right;\n",
       "    }\n",
       "</style>\n",
       "<table border=\"1\" class=\"dataframe\">\n",
       "  <thead>\n",
       "    <tr style=\"text-align: right;\">\n",
       "      <th></th>\n",
       "      <th>ph</th>\n",
       "      <th>Hardness</th>\n",
       "      <th>Solids</th>\n",
       "      <th>Chloramines</th>\n",
       "      <th>Sulfate</th>\n",
       "      <th>Conductivity</th>\n",
       "      <th>Organic_carbon</th>\n",
       "      <th>Trihalomethanes</th>\n",
       "      <th>Turbidity</th>\n",
       "    </tr>\n",
       "  </thead>\n",
       "  <tbody>\n",
       "    <tr>\n",
       "      <th>2017</th>\n",
       "      <td>8.111953</td>\n",
       "      <td>217.266472</td>\n",
       "      <td>38184.469574</td>\n",
       "      <td>7.254122</td>\n",
       "      <td>311.910224</td>\n",
       "      <td>281.069203</td>\n",
       "      <td>13.027921</td>\n",
       "      <td>78.582094</td>\n",
       "      <td>4.430750</td>\n",
       "    </tr>\n",
       "    <tr>\n",
       "      <th>2533</th>\n",
       "      <td>6.768060</td>\n",
       "      <td>179.805992</td>\n",
       "      <td>23793.031358</td>\n",
       "      <td>5.332099</td>\n",
       "      <td>333.198191</td>\n",
       "      <td>461.530446</td>\n",
       "      <td>13.557381</td>\n",
       "      <td>60.571241</td>\n",
       "      <td>4.145807</td>\n",
       "    </tr>\n",
       "    <tr>\n",
       "      <th>589</th>\n",
       "      <td>7.080795</td>\n",
       "      <td>180.893036</td>\n",
       "      <td>17705.608616</td>\n",
       "      <td>6.223312</td>\n",
       "      <td>350.195253</td>\n",
       "      <td>447.937123</td>\n",
       "      <td>10.461025</td>\n",
       "      <td>32.074863</td>\n",
       "      <td>3.999125</td>\n",
       "    </tr>\n",
       "    <tr>\n",
       "      <th>482</th>\n",
       "      <td>7.705711</td>\n",
       "      <td>178.922858</td>\n",
       "      <td>18476.619166</td>\n",
       "      <td>8.226228</td>\n",
       "      <td>334.889911</td>\n",
       "      <td>518.043369</td>\n",
       "      <td>10.638798</td>\n",
       "      <td>63.157489</td>\n",
       "      <td>3.861956</td>\n",
       "    </tr>\n",
       "    <tr>\n",
       "      <th>2620</th>\n",
       "      <td>5.830542</td>\n",
       "      <td>165.467025</td>\n",
       "      <td>30021.257079</td>\n",
       "      <td>8.433097</td>\n",
       "      <td>334.397777</td>\n",
       "      <td>494.154505</td>\n",
       "      <td>16.666613</td>\n",
       "      <td>69.580253</td>\n",
       "      <td>5.192117</td>\n",
       "    </tr>\n",
       "    <tr>\n",
       "      <th>...</th>\n",
       "      <td>...</td>\n",
       "      <td>...</td>\n",
       "      <td>...</td>\n",
       "      <td>...</td>\n",
       "      <td>...</td>\n",
       "      <td>...</td>\n",
       "      <td>...</td>\n",
       "      <td>...</td>\n",
       "      <td>...</td>\n",
       "    </tr>\n",
       "    <tr>\n",
       "      <th>940</th>\n",
       "      <td>8.966836</td>\n",
       "      <td>228.691355</td>\n",
       "      <td>16764.854765</td>\n",
       "      <td>7.137871</td>\n",
       "      <td>320.555995</td>\n",
       "      <td>456.426489</td>\n",
       "      <td>12.599998</td>\n",
       "      <td>77.330137</td>\n",
       "      <td>3.654355</td>\n",
       "    </tr>\n",
       "    <tr>\n",
       "      <th>1109</th>\n",
       "      <td>7.080795</td>\n",
       "      <td>214.657331</td>\n",
       "      <td>19692.464394</td>\n",
       "      <td>5.947390</td>\n",
       "      <td>326.175709</td>\n",
       "      <td>385.827829</td>\n",
       "      <td>15.563460</td>\n",
       "      <td>77.834036</td>\n",
       "      <td>3.261651</td>\n",
       "    </tr>\n",
       "    <tr>\n",
       "      <th>758</th>\n",
       "      <td>7.080795</td>\n",
       "      <td>204.852187</td>\n",
       "      <td>13286.156575</td>\n",
       "      <td>9.093843</td>\n",
       "      <td>332.845544</td>\n",
       "      <td>365.687520</td>\n",
       "      <td>8.589896</td>\n",
       "      <td>76.306376</td>\n",
       "      <td>4.268525</td>\n",
       "    </tr>\n",
       "    <tr>\n",
       "      <th>3216</th>\n",
       "      <td>5.609235</td>\n",
       "      <td>216.122673</td>\n",
       "      <td>14825.934502</td>\n",
       "      <td>7.001788</td>\n",
       "      <td>355.211678</td>\n",
       "      <td>330.092674</td>\n",
       "      <td>9.779518</td>\n",
       "      <td>41.249977</td>\n",
       "      <td>3.224676</td>\n",
       "    </tr>\n",
       "    <tr>\n",
       "      <th>414</th>\n",
       "      <td>5.596628</td>\n",
       "      <td>177.213792</td>\n",
       "      <td>17925.352120</td>\n",
       "      <td>8.435470</td>\n",
       "      <td>303.734166</td>\n",
       "      <td>552.308706</td>\n",
       "      <td>10.339986</td>\n",
       "      <td>57.820611</td>\n",
       "      <td>5.235111</td>\n",
       "    </tr>\n",
       "  </tbody>\n",
       "</table>\n",
       "<p>819 rows × 9 columns</p>\n",
       "</div>"
      ],
      "text/plain": [
       "            ph    Hardness        Solids  Chloramines     Sulfate  \\\n",
       "2017  8.111953  217.266472  38184.469574     7.254122  311.910224   \n",
       "2533  6.768060  179.805992  23793.031358     5.332099  333.198191   \n",
       "589   7.080795  180.893036  17705.608616     6.223312  350.195253   \n",
       "482   7.705711  178.922858  18476.619166     8.226228  334.889911   \n",
       "2620  5.830542  165.467025  30021.257079     8.433097  334.397777   \n",
       "...        ...         ...           ...          ...         ...   \n",
       "940   8.966836  228.691355  16764.854765     7.137871  320.555995   \n",
       "1109  7.080795  214.657331  19692.464394     5.947390  326.175709   \n",
       "758   7.080795  204.852187  13286.156575     9.093843  332.845544   \n",
       "3216  5.609235  216.122673  14825.934502     7.001788  355.211678   \n",
       "414   5.596628  177.213792  17925.352120     8.435470  303.734166   \n",
       "\n",
       "      Conductivity  Organic_carbon  Trihalomethanes  Turbidity  \n",
       "2017    281.069203       13.027921        78.582094   4.430750  \n",
       "2533    461.530446       13.557381        60.571241   4.145807  \n",
       "589     447.937123       10.461025        32.074863   3.999125  \n",
       "482     518.043369       10.638798        63.157489   3.861956  \n",
       "2620    494.154505       16.666613        69.580253   5.192117  \n",
       "...            ...             ...              ...        ...  \n",
       "940     456.426489       12.599998        77.330137   3.654355  \n",
       "1109    385.827829       15.563460        77.834036   3.261651  \n",
       "758     365.687520        8.589896        76.306376   4.268525  \n",
       "3216    330.092674        9.779518        41.249977   3.224676  \n",
       "414     552.308706       10.339986        57.820611   5.235111  \n",
       "\n",
       "[819 rows x 9 columns]"
      ]
     },
     "execution_count": 44,
     "metadata": {},
     "output_type": "execute_result"
    }
   ],
   "source": [
    "x_test"
   ]
  },
  {
   "cell_type": "code",
   "execution_count": 45,
   "id": "fbfc44c4",
   "metadata": {},
   "outputs": [
    {
     "data": {
      "text/plain": [
       "2017    1\n",
       "2533    0\n",
       "589     0\n",
       "482     0\n",
       "2620    0\n",
       "       ..\n",
       "940     0\n",
       "1109    1\n",
       "758     1\n",
       "3216    1\n",
       "414     0\n",
       "Name: Potability, Length: 819, dtype: int64"
      ]
     },
     "execution_count": 45,
     "metadata": {},
     "output_type": "execute_result"
    }
   ],
   "source": [
    "y_test"
   ]
  },
  {
   "cell_type": "code",
   "execution_count": 46,
   "id": "288bf99d",
   "metadata": {},
   "outputs": [
    {
     "data": {
      "text/plain": [
       "GaussianNB()"
      ]
     },
     "execution_count": 46,
     "metadata": {},
     "output_type": "execute_result"
    }
   ],
   "source": [
    "#naive bayes\n",
    "from sklearn.naive_bayes import GaussianNB  \n",
    "naive = GaussianNB()  \n",
    "naive.fit(x_train, y_train) "
   ]
  },
  {
   "cell_type": "code",
   "execution_count": 47,
   "id": "204431d8",
   "metadata": {},
   "outputs": [
    {
     "data": {
      "text/plain": [
       "array([0, 0, 0, 0, 0, 0, 0, 0, 0, 0, 0, 0, 0, 0, 0, 0, 0, 0, 0, 0, 1, 1,\n",
       "       0, 0, 0, 1, 0, 0, 0, 0, 0, 0, 1, 0, 0, 0, 0, 0, 1, 0, 0, 0, 0, 0,\n",
       "       0, 0, 0, 1, 1, 0, 0, 1, 0, 0, 0, 0, 0, 1, 0, 0, 0, 0, 0, 0, 1, 0,\n",
       "       0, 0, 0, 0, 0, 1, 0, 0, 0, 1, 0, 0, 1, 0, 0, 0, 1, 0, 0, 0, 0, 1,\n",
       "       0, 0, 0, 0, 0, 0, 0, 1, 0, 1, 0, 0, 0, 0, 0, 0, 0, 0, 0, 0, 0, 0,\n",
       "       0, 0, 1, 0, 0, 0, 1, 0, 1, 0, 1, 0, 1, 0, 0, 0, 0, 0, 0, 0, 0, 0,\n",
       "       0, 0, 0, 0, 1, 0, 0, 0, 0, 0, 0, 1, 0, 0, 0, 0, 1, 0, 0, 0, 0, 0,\n",
       "       0, 0, 0, 0, 0, 0, 0, 0, 1, 0, 1, 0, 0, 0, 1, 0, 0, 1, 0, 0, 0, 0,\n",
       "       0, 0, 0, 0, 0, 0, 0, 0, 0, 0, 0, 0, 0, 0, 0, 1, 0, 0, 0, 0, 0, 0,\n",
       "       0, 1, 0, 1, 0, 0, 0, 1, 0, 0, 0, 0, 0, 0, 0, 0, 0, 0, 0, 0, 0, 1,\n",
       "       0, 0, 0, 0, 1, 0, 0, 0, 1, 0, 0, 1, 0, 0, 1, 0, 0, 0, 0, 0, 0, 0,\n",
       "       0, 1, 1, 1, 0, 0, 0, 0, 0, 0, 0, 1, 0, 0, 0, 1, 0, 0, 0, 0, 0, 0,\n",
       "       0, 0, 0, 0, 1, 0, 0, 0, 0, 0, 0, 0, 1, 0, 0, 0, 0, 0, 1, 1, 0, 1,\n",
       "       1, 0, 0, 0, 0, 0, 0, 0, 1, 1, 0, 1, 0, 0, 0, 0, 0, 0, 0, 0, 0, 0,\n",
       "       0, 0, 0, 1, 1, 1, 0, 1, 0, 0, 0, 0, 0, 0, 0, 1, 0, 0, 0, 0, 0, 0,\n",
       "       1, 0, 1, 0, 0, 0, 0, 0, 0, 0, 1, 0, 0, 0, 0, 0, 1, 0, 0, 0, 0, 0,\n",
       "       0, 1, 0, 0, 0, 1, 0, 0, 0, 0, 0, 0, 1, 0, 1, 0, 0, 0, 0, 0, 0, 0,\n",
       "       0, 0, 0, 0, 0, 0, 0, 0, 0, 1, 1, 0, 0, 1, 1, 0, 1, 0, 0, 1, 0, 0,\n",
       "       0, 0, 0, 0, 0, 0, 1, 0, 0, 0, 0, 0, 0, 0, 0, 0, 0, 1, 0, 0, 0, 0,\n",
       "       1, 0, 0, 1, 0, 0, 0, 0, 1, 0, 0, 0, 1, 0, 0, 0, 0, 0, 1, 0, 0, 1,\n",
       "       0, 0, 0, 0, 0, 0, 0, 0, 0, 0, 1, 0, 0, 0, 1, 0, 0, 0, 1, 0, 0, 0,\n",
       "       0, 0, 0, 0, 0, 0, 1, 1, 0, 1, 0, 0, 1, 0, 1, 0, 0, 0, 0, 0, 0, 0,\n",
       "       0, 0, 0, 0, 0, 0, 0, 0, 0, 0, 1, 0, 0, 0, 1, 1, 0, 0, 0, 0, 0, 1,\n",
       "       0, 0, 1, 0, 0, 0, 0, 0, 0, 0, 1, 0, 0, 0, 0, 1, 0, 0, 1, 1, 0, 0,\n",
       "       0, 0, 0, 0, 0, 0, 0, 0, 0, 0, 1, 0, 0, 0, 0, 1, 0, 0, 0, 0, 0, 0,\n",
       "       0, 0, 0, 0, 0, 0, 0, 0, 1, 0, 0, 0, 0, 0, 0, 0, 0, 0, 0, 0, 0, 0,\n",
       "       0, 0, 0, 0, 0, 0, 0, 0, 0, 0, 0, 0, 0, 0, 0, 0, 0, 0, 0, 0, 0, 0,\n",
       "       0, 0, 0, 1, 0, 0, 0, 0, 0, 0, 0, 0, 0, 1, 0, 1, 0, 0, 0, 0, 0, 0,\n",
       "       1, 0, 1, 0, 0, 1, 0, 0, 0, 0, 0, 1, 0, 0, 0, 1, 0, 0, 0, 0, 0, 0,\n",
       "       1, 0, 0, 0, 0, 0, 0, 0, 0, 0, 0, 0, 1, 0, 1, 0, 0, 1, 0, 1, 0, 0,\n",
       "       0, 1, 0, 0, 0, 0, 0, 0, 0, 0, 1, 0, 0, 0, 0, 0, 0, 0, 0, 0, 0, 0,\n",
       "       0, 0, 0, 0, 0, 0, 0, 1, 0, 0, 0, 0, 0, 0, 0, 1, 1, 0, 0, 0, 0, 0,\n",
       "       0, 0, 0, 0, 0, 0, 0, 0, 0, 1, 0, 0, 0, 0, 0, 0, 0, 0, 0, 0, 0, 0,\n",
       "       1, 0, 0, 0, 0, 0, 0, 0, 0, 0, 0, 0, 0, 0, 0, 0, 0, 1, 0, 0, 0, 0,\n",
       "       0, 0, 0, 0, 1, 1, 0, 0, 0, 0, 0, 0, 0, 0, 0, 0, 0, 0, 0, 0, 0, 0,\n",
       "       1, 1, 1, 1, 0, 1, 0, 0, 0, 0, 0, 0, 0, 0, 0, 1, 0, 0, 0, 0, 0, 1,\n",
       "       1, 0, 1, 0, 0, 1, 0, 0, 0, 0, 0, 1, 0, 0, 0, 0, 0, 0, 0, 0, 0, 0,\n",
       "       0, 0, 0, 0, 0], dtype=int64)"
      ]
     },
     "execution_count": 47,
     "metadata": {},
     "output_type": "execute_result"
    }
   ],
   "source": [
    "y_pred3=naive.predict(x_test)  \n",
    "y_pred3"
   ]
  },
  {
   "cell_type": "code",
   "execution_count": 56,
   "id": "667a1cce",
   "metadata": {},
   "outputs": [
    {
     "data": {
      "text/plain": [
       "array([[435,  67],\n",
       "       [251,  66]], dtype=int64)"
      ]
     },
     "execution_count": 56,
     "metadata": {},
     "output_type": "execute_result"
    }
   ],
   "source": [
    "s=[]\n",
    "from sklearn.tree import DecisionTreeClassifier\n",
    "from sklearn.metrics import accuracy_score,confusion_matrix,classification_report\n",
    "from sklearn.metrics import roc_curve, roc_auc_score\n",
    "cm3= confusion_matrix(y_test,y_pred3)  \n",
    "cm3"
   ]
  },
  {
   "cell_type": "code",
   "execution_count": 57,
   "id": "b90d4f99",
   "metadata": {},
   "outputs": [
    {
     "name": "stdout",
     "output_type": "stream",
     "text": [
      "Accuracy Score for Naive Bayes : 61.172161172161175\n"
     ]
    }
   ],
   "source": [
    "print(\"Accuracy Score for Naive Bayes :\",accuracy_score(y_test,y_pred3)*100)\n",
    "s.append(accuracy_score(y_test,y_pred3)*100)"
   ]
  },
  {
   "cell_type": "code",
   "execution_count": 58,
   "id": "e01c6e52",
   "metadata": {},
   "outputs": [
    {
     "data": {
      "text/plain": [
       "0"
      ]
     },
     "execution_count": 58,
     "metadata": {},
     "output_type": "execute_result"
    }
   ],
   "source": [
    "res2=naive.predict([[5.73,158.31,25363.01,7.73,377.55,568.31,13.63,75.96,4.74]])[0]\n",
    "res2"
   ]
  },
  {
   "cell_type": "code",
   "execution_count": 65,
   "id": "42ff4e92",
   "metadata": {},
   "outputs": [
    {
     "data": {
      "text/plain": [
       "[<matplotlib.lines.Line2D at 0x1bc0db85c40>]"
      ]
     },
     "execution_count": 65,
     "metadata": {},
     "output_type": "execute_result"
    },
    {
     "data": {
      "image/png": "[encoded data removed]",
      "text/plain": [
       "<Figure size 432x288 with 1 Axes>"
      ]
     },
     "metadata": {
      "needs_background": "light"
     },
     "output_type": "display_data"
    }
   ],
   "source": [
    "fpr,tpr,threshold3=roc_curve(y_test,y_pred3)\n",
    "plt.plot(fpr,tpr,'m')"
   ]
  },
  {
   "cell_type": "code",
   "execution_count": 66,
   "id": "b3190dc6",
   "metadata": {},
   "outputs": [
    {
     "data": {
      "text/plain": [
       "array([[326, 176],\n",
       "       [171, 146]], dtype=int64)"
      ]
     },
     "execution_count": 66,
     "metadata": {},
     "output_type": "execute_result"
    }
   ],
   "source": [
    "#ada boost\n",
    "from sklearn.ensemble import AdaBoostClassifier\n",
    "ad=AdaBoostClassifier(DecisionTreeClassifier(),n_estimators=5,learning_rate=1)\n",
    "ad.fit(x_train,y_train)\n",
    "p=ad.predict(x_test)\n",
    "cm3=confusion_matrix(y_test,p)\n",
    "cm3"
   ]
  },
  {
   "cell_type": "code",
   "execution_count": 67,
   "id": "83d3cf81",
   "metadata": {},
   "outputs": [
    {
     "name": "stdout",
     "output_type": "stream",
     "text": [
      "Acuuracy : 0.5763125763125763\n",
      "Recall : 0.6559356136820925\n",
      "Specifity : 0.453416149068323\n",
      "Precision : 0.649402390438247\n"
     ]
    }
   ],
   "source": [
    "TP,FP,FN,TN=cm3.ravel()\n",
    "print(\"Acuuracy :\",(TP+TN)/float(TP+TN+FP+FN))\n",
    "print(\"Recall :\",(TP)/float(TP+FN))\n",
    "print(\"Specifity :\",(TN)/float(TN+FP))\n",
    "print(\"Precision :\",(TP)/float(TP+FP))\n"
   ]
  },
  {
   "cell_type": "code",
   "execution_count": 68,
   "id": "38507b08",
   "metadata": {},
   "outputs": [
    {
     "data": {
      "image/png": "[encoded data removed]",
      "text/plain": [
       "<Figure size 432x288 with 1 Axes>"
      ]
     },
     "metadata": {
      "needs_background": "light"
     },
     "output_type": "display_data"
    }
   ],
   "source": [
    "from sklearn.metrics import roc_curve\n",
    "from sklearn import metrics\n",
    "import matplotlib.pyplot as plt\n",
    "p=ad.predict(x_test)\n",
    "fpr2,tpr2,threshhold=metrics.roc_curve(y_test,p)\n",
    "plt.plot(fpr2,tpr2,'y')\n",
    "plt.plot(fpr,tpr,'r')\n",
    "plt.title(\"ROC Curve\")\n",
    "plt.xlabel(\"FPR\")\n",
    "plt.ylabel(\"TPR\")\n",
    "plt.xlim([0.0,1.0])\n",
    "plt.ylim([0.0,1.0])\n",
    "plt.grid(True)"
   ]
  },
  {
   "cell_type": "code",
   "execution_count": 69,
   "id": "4f4f2a39",
   "metadata": {},
   "outputs": [
    {
     "name": "stdout",
     "output_type": "stream",
     "text": [
      "AUC : 0.5549851068910479\n"
     ]
    }
   ],
   "source": [
    "from sklearn.metrics import roc_auc_score\n",
    "print(\"AUC :\",metrics.roc_auc_score(y_test,p))\n"
   ]
  },
  {
   "cell_type": "code",
   "execution_count": 70,
   "id": "ce476804",
   "metadata": {},
   "outputs": [
    {
     "name": "stdout",
     "output_type": "stream",
     "text": [
      "Accuracy Score for ada boost : 57.631257631257625\n"
     ]
    }
   ],
   "source": [
    "print(\"Accuracy Score for ada boost :\",accuracy_score(y_test,p)*100)\n",
    "s.append(accuracy_score(y_test,p)*100)"
   ]
  },
  {
   "cell_type": "code",
   "execution_count": 71,
   "id": "69cb99d4",
   "metadata": {},
   "outputs": [
    {
     "data": {
      "text/plain": [
       "array([[455,  47],\n",
       "       [250,  67]], dtype=int64)"
      ]
     },
     "execution_count": 71,
     "metadata": {},
     "output_type": "execute_result"
    }
   ],
   "source": [
    "#GRADIENT BOOSTING\n",
    "from sklearn.ensemble import GradientBoostingClassifier\n",
    "gd=GradientBoostingClassifier(n_estimators=10,learning_rate=0.5)\n",
    "gd.fit(x_train,y_train)\n",
    "pr=gd.predict(x_test)\n",
    "cm4=confusion_matrix(y_test,pr)\n",
    "cm4"
   ]
  },
  {
   "cell_type": "code",
   "execution_count": 72,
   "id": "83fddffb",
   "metadata": {},
   "outputs": [
    {
     "name": "stdout",
     "output_type": "stream",
     "text": [
      "Acuuracy : 0.6373626373626373\n",
      "Recall : 0.6453900709219859\n",
      "Specifity : 0.5877192982456141\n",
      "Precision : 0.9063745019920318\n"
     ]
    }
   ],
   "source": [
    "TP,FP,FN,TN=cm4.ravel()\n",
    "print(\"Acuuracy :\",(TP+TN)/float(TP+TN+FP+FN))\n",
    "print(\"Recall :\",(TP)/float(TP+FN))\n",
    "print(\"Specifity :\",(TN)/float(TN+FP))\n",
    "print(\"Precision :\",(TP)/float(TP+FP))\n"
   ]
  },
  {
   "cell_type": "code",
   "execution_count": 74,
   "id": "c5bc646d",
   "metadata": {},
   "outputs": [
    {
     "data": {
      "image/png": "[encoded data removed]",
      "text/plain": [
       "<Figure size 432x288 with 1 Axes>"
      ]
     },
     "metadata": {
      "needs_background": "light"
     },
     "output_type": "display_data"
    }
   ],
   "source": [
    "from sklearn.metrics import roc_curve\n",
    "import matplotlib.pyplot as plt\n",
    "pr=gd.predict(x_test)\n",
    "fpr5,tpr5,threshhold=metrics.roc_curve(y_test,pr)\n",
    "plt.plot(fpr5,tpr5,'y')\n",
    "plt.plot(fpr,tpr,'r')\n",
    "plt.plot(fpr2,tpr2,'g')\n",
    "plt.title(\"ROC Curve\")\n",
    "plt.xlabel(\"FPR\")\n",
    "plt.ylabel(\"TPR\")\n",
    "plt.xlim([0.0,1.0])\n",
    "plt.ylim([0.0,1.0])\n",
    "plt.grid(True)"
   ]
  },
  {
   "cell_type": "code",
   "execution_count": 75,
   "id": "db5d0c0b",
   "metadata": {},
   "outputs": [
    {
     "name": "stdout",
     "output_type": "stream",
     "text": [
      "Accuracy Score for ada boost : 63.73626373626373\n"
     ]
    }
   ],
   "source": [
    "print(\"Accuracy Score for gradient boosting :\",accuracy_score(y_test,pr)*100)\n",
    "s.append(accuracy_score(y_test,pr)*100)"
   ]
  },
  {
   "cell_type": "code",
   "execution_count": 76,
   "id": "624dfb89",
   "metadata": {},
   "outputs": [
    {
     "data": {
      "text/plain": [
       "array([[439,  63],\n",
       "       [223,  94]], dtype=int64)"
      ]
     },
     "execution_count": 76,
     "metadata": {},
     "output_type": "execute_result"
    }
   ],
   "source": [
    "#RANDOM FOREST\n",
    "from sklearn.ensemble import RandomForestClassifier\n",
    "rf=RandomForestClassifier(n_estimators=20)\n",
    "rf.fit(x_train,y_train)\n",
    "pred=rf.predict(x_test)\n",
    "cm1=confusion_matrix(y_test,pred)\n",
    "cm1\n"
   ]
  },
  {
   "cell_type": "code",
   "execution_count": 77,
   "id": "84832397",
   "metadata": {},
   "outputs": [
    {
     "name": "stdout",
     "output_type": "stream",
     "text": [
      "Acuuracy : 0.6507936507936508\n",
      "Recall : 0.6631419939577039\n",
      "Specifity : 0.5987261146496815\n",
      "Precision : 0.8745019920318725\n"
     ]
    }
   ],
   "source": [
    "TP,FP,FN,TN=cm1.ravel()\n",
    "print(\"Acuuracy :\",(TP+TN)/float(TP+TN+FP+FN))\n",
    "print(\"Recall :\",(TP)/float(TP+FN))\n",
    "print(\"Specifity :\",(TN)/float(TN+FP))\n",
    "print(\"Precision :\",(TP)/float(TP+FP))\n"
   ]
  },
  {
   "cell_type": "code",
   "execution_count": 82,
   "id": "55736433",
   "metadata": {},
   "outputs": [
    {
     "name": "stdout",
     "output_type": "stream",
     "text": [
      "Accuracy Score for random forest : 65.07936507936508\n"
     ]
    },
    {
     "data": {
      "image/png": "[encoded data removed]",
      "text/plain": [
       "<Figure size 432x288 with 1 Axes>"
      ]
     },
     "metadata": {
      "needs_background": "light"
     },
     "output_type": "display_data"
    }
   ],
   "source": [
    "from sklearn.metrics import roc_curve\n",
    "import matplotlib.pyplot as plt\n",
    "pred_prob=rf.predict(x_test)\n",
    "fpr4,tpr4,threshhold=metrics.roc_curve(y_test,pred_prob)\n",
    "plt.plot(fpr4,tpr4,'y')\n",
    "plt.plot(fpr,tpr,'r')\n",
    "plt.plot(fpr2,tpr2,'g')\n",
    "plt.plot(fpr5,tpr5,'b')\n",
    "plt.title(\"ROC Curve\")\n",
    "plt.xlabel(\"FPR\")\n",
    "plt.ylabel(\"TPR\")\n",
    "plt.xlim([0.0,1.0])\n",
    "plt.ylim([0.0,1.0])\n",
    "plt.grid(True)\n",
    "print(\"Accuracy Score for random forest :\",accuracy_score(y_test,pred)*100)\n",
    "s.append(accuracy_score(y_test,pred)*100)"
   ]
  },
  {
   "cell_type": "code",
   "execution_count": 83,
   "id": "de1e0fe0",
   "metadata": {},
   "outputs": [
    {
     "data": {
      "text/html": [
       "<div>\n",
       "<style scoped>\n",
       "    .dataframe tbody tr th:only-of-type {\n",
       "        vertical-align: middle;\n",
       "    }\n",
       "\n",
       "    .dataframe tbody tr th {\n",
       "        vertical-align: top;\n",
       "    }\n",
       "\n",
       "    .dataframe thead th {\n",
       "        text-align: right;\n",
       "    }\n",
       "</style>\n",
       "<table border=\"1\" class=\"dataframe\">\n",
       "  <thead>\n",
       "    <tr style=\"text-align: right;\">\n",
       "      <th></th>\n",
       "      <th>CLASSIFIER</th>\n",
       "      <th>ACCURACY SCORE</th>\n",
       "    </tr>\n",
       "  </thead>\n",
       "  <tbody>\n",
       "    <tr>\n",
       "      <th>0</th>\n",
       "      <td>Naive Bayes</td>\n",
       "      <td>61.172161</td>\n",
       "    </tr>\n",
       "    <tr>\n",
       "      <th>1</th>\n",
       "      <td>ADA BOOST</td>\n",
       "      <td>57.631258</td>\n",
       "    </tr>\n",
       "    <tr>\n",
       "      <th>2</th>\n",
       "      <td>Gradient Boosting</td>\n",
       "      <td>63.736264</td>\n",
       "    </tr>\n",
       "    <tr>\n",
       "      <th>3</th>\n",
       "      <td>Random Forest</td>\n",
       "      <td>65.079365</td>\n",
       "    </tr>\n",
       "  </tbody>\n",
       "</table>\n",
       "</div>"
      ],
      "text/plain": [
       "          CLASSIFIER  ACCURACY SCORE\n",
       "0        Naive Bayes       61.172161\n",
       "1          ADA BOOST       57.631258\n",
       "2  Gradient Boosting       63.736264\n",
       "3      Random Forest       65.079365"
      ]
     },
     "execution_count": 83,
     "metadata": {},
     "output_type": "execute_result"
    }
   ],
   "source": [
    "c_name=[\"Naive Bayes\",\"ADA BOOST\",\"Gradient Boosting\",\"Random Forest\"]\n",
    "d={'CLASSIFIER':c_name,'ACCURACY SCORE':s}\n",
    "dt=pd.DataFrame(d)\n",
    "dt"
   ]
  },
  {
   "cell_type": "code",
   "execution_count": 88,
   "id": "d1e47936",
   "metadata": {},
   "outputs": [
    {
     "name": "stdout",
     "output_type": "stream",
     "text": [
      "The Best Classifier  is Random Forest with Accuracy of : 65.07936507936508\n"
     ]
    }
   ],
   "source": [
    "print(\"The Best Classifier is\",c_name[-1],\"with Accuracy of :\",max(s))"
   ]
  },
  {
   "cell_type": "code",
   "execution_count": null,
   "id": "016ec40d",
   "metadata": {},
   "outputs": [],
   "source": []
  }
 ],
 "metadata": {
  "kernelspec": {
   "display_name": "Python 3 (ipykernel)",
   "language": "python",
   "name": "python3"
  },
  "language_info": {
   "codemirror_mode": {
    "name": "ipython",
    "version": 3
   },
   "file_extension": ".py",
   "mimetype": "text/x-python",
   "name": "python",
   "nbconvert_exporter": "python",
   "pygments_lexer": "ipython3",
   "version": "3.9.7"
  }
 },
 "nbformat": 4,
 "nbformat_minor": 5
}
